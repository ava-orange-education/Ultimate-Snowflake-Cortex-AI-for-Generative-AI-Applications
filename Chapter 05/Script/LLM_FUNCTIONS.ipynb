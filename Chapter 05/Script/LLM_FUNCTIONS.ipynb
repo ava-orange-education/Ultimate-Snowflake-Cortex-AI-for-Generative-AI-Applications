{
 "metadata": {
  "kernelspec": {
   "display_name": "Streamlit Notebook",
   "name": "streamlit"
  },
  "lastEditStatus": {
   "notebookId": "row7c6vqqfqdx6cc7343",
   "authorId": "54728868421",
   "authorName": "GENAIULTIMATE",
   "authorEmail": "krishnan11@hotmail.com",
   "sessionId": "20e8543d-3a18-4239-8ff8-c5ae92eb6ce4",
   "lastEditTime": 1745493730540
  }
 },
 "nbformat_minor": 5,
 "nbformat": 4,
 "cells": [
  {
   "cell_type": "markdown",
   "id": "0763218c-1fbf-4200-ba8b-eadea0fe1434",
   "metadata": {
    "name": "LLM_Functions_Code",
    "collapsed": false
   },
   "source": "## LLM Functions"
  },
  {
   "cell_type": "code",
   "id": "3775908f-ca36-4846-8f38-5adca39217f2",
   "metadata": {
    "language": "python",
    "name": "SetSession"
   },
   "source": "\n# To begin we would need to setup a snowpark session and initialize for use\nfrom snowflake.snowpark.context import get_active_session\nsession = get_active_session()\n",
   "execution_count": null,
   "outputs": []
  },
  {
   "cell_type": "code",
   "id": "8d50cbf4-0c8d-4950-86cb-114990437ac9",
   "metadata": {
    "language": "sql",
    "name": "USE_DB",
    "codeCollapsed": false
   },
   "source": "-- Set the current database to CORTEX_AI_DB\nuse database CORTEX_AI_DB",
   "execution_count": null,
   "outputs": []
  },
  {
   "cell_type": "code",
   "id": "c695373e-ac74-4b62-a1f1-08206cbd5c81",
   "metadata": {
    "language": "python",
    "name": "COMPLETE_Function_Example",
    "codeCollapsed": false
   },
   "source": "from snowflake.cortex import Complete\n\nComplete(\"llama3.1-8b\", \"\"\"In less than 100 words and in short bullets,\nexplain what is the differenced between on-prem and cloud hosting?\"\"\")",
   "execution_count": null,
   "outputs": []
  },
  {
   "cell_type": "code",
   "id": "ee0f913c-96a8-4929-87ba-c454e742881b",
   "metadata": {
    "language": "python",
    "name": "COMPLETE_Function_Example2",
    "codeCollapsed": false
   },
   "outputs": [],
   "source": "from snowflake.cortex import Complete\n\ndef travel_guide_query(destination):\n    messages = [\n        {'role': 'system', 'content': '''You are a travel guide that provides helpful \n        information about destinations in a friendly and safe manner.'''},\n        {'role': 'user', 'content': f'''What are the top five must-see attractions  \n        in {destination}? Keep the descriptions for each attarction within 15 words'''}\n    ]\n    \n    assign_params = {\n        'guardrails': True,  # Ensures that the responses are safe\n        'temperature': 0.7,  # Adjusts the creativity of the response\n        'max_tokens': 200    # Limits the length of the response\n    }\n    \n    response = Complete(\"llama3.1-405b\", messages, options=assign_params)\n    return response\n\n# Example usage\nprint(travel_guide_query('Las Vegas'))\n",
   "execution_count": null
  },
  {
   "cell_type": "code",
   "id": "37877c46-0335-4102-945f-30a0b9af0c9c",
   "metadata": {
    "language": "sql",
    "name": "Classify_Text_Example1",
    "codeCollapsed": false
   },
   "outputs": [],
   "source": "SELECT SNOWFLAKE.CORTEX.CLASSIFY_TEXT( 'I loved the product but the delivery took too long.', ['Product Quality', 'Delivery Time', 'Customer Support'] );",
   "execution_count": null
  },
  {
   "cell_type": "code",
   "id": "9fb7749c-768d-49ac-9476-4c287370f14c",
   "metadata": {
    "language": "sql",
    "name": "Classify_Text_Example_2",
    "codeCollapsed": false
   },
   "outputs": [],
   "source": "SELECT SNOWFLAKE.CORTEX.CLASSIFY_TEXT(\n    'I have experience in machine learning and data analysis. I have strong knowledge of feature engineering, model building and creating end to end model deployment pipelines.',\n    ['Software Engineer', 'Data Scientist', 'Marketing Specialist'] \n) as Role;",
   "execution_count": null
  },
  {
   "cell_type": "code",
   "id": "f9500155-2fef-4206-b87d-8bd2be0eb3ed",
   "metadata": {
    "language": "sql",
    "name": "Classify_Text_Example_3",
    "codeCollapsed": false
   },
   "outputs": [],
   "source": "SELECT SNOWFLAKE.CORTEX.CLASSIFY_TEXT(\n    'I need help with setting up my new software.',\n    [\n        {\n            'label': 'Sales',\n            'description': 'Inquiries about purchasing products or services',\n            'examples': ['I want to buy a new license', 'How much does the product cost?']\n        },\n        {\n            'label': 'Technical Support',\n            'description': 'Inquiries about troubleshooting or using products',\n            'examples': ['My software is not working', 'How do I install this?']\n        },\n        {\n            'label': 'Billing',\n            'description': 'Inquiries about payments or invoices',\n            'examples': ['I have a question about my invoice', 'How do I pay my bill?']\n        }\n    ],\n    {\n        'task_description': 'Route the inquiry to the correct department'\n    }\n) as Category;",
   "execution_count": null
  },
  {
   "cell_type": "code",
   "id": "0152cf06-d15b-4668-8095-5a18626b0128",
   "metadata": {
    "language": "sql",
    "name": "Extract_Answer_Example1",
    "codeCollapsed": false
   },
   "outputs": [],
   "source": "SELECT SNOWFLAKE.CORTEX.EXTRACT_ANSWER(\n    'The patient should take 2 tablets of tylenol every 4 hours for three days.',\n    'How many days was the patient prescribed tylenol?' \n)  as Medication_Days;",
   "execution_count": null
  },
  {
   "cell_type": "code",
   "id": "3ba6d21e-f5cf-470e-874b-236bae1ae241",
   "metadata": {
    "language": "sql",
    "name": "cell1",
    "codeCollapsed": false
   },
   "outputs": [],
   "source": "SELECT * FROM SMARTWATCH_FEATURE_REVIEWS;",
   "execution_count": null
  },
  {
   "cell_type": "code",
   "id": "5e501946-386e-4614-ba59-a143c8ee938c",
   "metadata": {
    "language": "sql",
    "name": "Extract_Answer_Example2",
    "codeCollapsed": false
   },
   "outputs": [],
   "source": "SELECT SNOWFLAKE.CORTEX.EXTRACT_ANSWER(\n    review_content,\n    'list the most liked features by customers'\n) AS liked_features\nFROM smartwatch_feature_reviews;",
   "execution_count": null
  },
  {
   "cell_type": "code",
   "id": "79c2661c-bfd0-4229-813d-e9118bcd1978",
   "metadata": {
    "language": "sql",
    "name": "Sentiment_Example1",
    "codeCollapsed": false
   },
   "outputs": [],
   "source": "SELECT SNOWFLAKE.CORTEX.SENTIMENT(\n    'The new ad is hilarious,very appealing and really caught my attention all along!'\n) AS sentiment_score;",
   "execution_count": null
  },
  {
   "cell_type": "code",
   "id": "d6c3ef32-73ab-4f2a-be75-2853c813ef1a",
   "metadata": {
    "language": "sql",
    "name": "Sentiment_Example1_with_Sentiment_Value",
    "codeCollapsed": false
   },
   "outputs": [],
   "source": "SELECT SNOWFLAKE.CORTEX.SENTIMENT(\n    'The new ad is hilarious,very appealing and really caught my attention all along!') AS SCORE,\nCASE\nWHEN SCORE > 0.5 THEN 'POSITIVE'\nWHEN SCORE < -0.5 THEN 'NEGATIVE'\nELSE 'NEUTRAL' \nEND AS SENTIMENT;",
   "execution_count": null
  },
  {
   "cell_type": "code",
   "id": "0b64f4fb-161b-4ae0-a399-5933e0b524fc",
   "metadata": {
    "language": "sql",
    "name": "Summarization_Example1",
    "codeCollapsed": false
   },
   "outputs": [],
   "source": "SELECT SNOWFLAKE.CORTEX.SUMMARIZE('I recently visited La Bella Bistro, and it was an unforgettable experience. From the moment I walked in, the ambiance was warm and inviting, with soft lighting and a cozy setup. The staff was incredibly welcoming and attentive, ensuring that every detail of our dining experience was perfect. The food was exceptional—each dish was flavorful, well-presented, and cooked to perfection.'\n    ) AS Review_Summary;",
   "execution_count": null
  },
  {
   "cell_type": "code",
   "id": "0216ef20-0324-42b2-80dc-504b28612913",
   "metadata": {
    "language": "sql",
    "name": "cell2",
    "codeCollapsed": false
   },
   "outputs": [],
   "source": "SELECT SNOWFLAKE.CORTEX.SUMMARIZE(customer_feedback) AS summary from Smartwatch_Customer_Feedback;\n    ",
   "execution_count": null
  },
  {
   "cell_type": "code",
   "id": "b999dd4f-73a7-44d6-a694-150364cdfce7",
   "metadata": {
    "language": "sql",
    "name": "Translate_Example1",
    "codeCollapsed": false
   },
   "outputs": [],
   "source": "SELECT SNOWFLAKE.CORTEX.TRANSLATE(\n    'Das Produkt ist sehr benutzerfreundlich, aber die Lieferzeit war etwas lang',\n    'de',  // Source language\n    'en'   // Target language\n) AS english_translation;",
   "execution_count": null
  },
  {
   "cell_type": "code",
   "id": "ec8bde7a-ba46-43f1-89e3-2f716141b3a3",
   "metadata": {
    "language": "sql",
    "name": "Translate_Example2",
    "codeCollapsed": false
   },
   "outputs": [],
   "source": "SELECT SNOWFLAKE.CORTEX.TRANSLATE(\n    'Experience cutting-edge technology with the ZenTime Super-V1, a sleek and ultra-thin smartphone designed for those who demand elegance and performance. Crafted with a premium glass and aluminum body, its 6.7-inch OLED display delivers stunning clarity and vibrant colors, making every visual immersive.',\n    'en' ,'fr' // Translate to French\n) AS french_description;\n\n\n",
   "execution_count": null
  },
  {
   "cell_type": "code",
   "id": "9188f0f0-913a-4c8b-97a7-a14b690918ac",
   "metadata": {
    "language": "sql",
    "name": "Count_Tokens_Example",
    "codeCollapsed": false
   },
   "outputs": [],
   "source": "SELECT SNOWFLAKE.CORTEX.COUNT_TOKENS(\n    'mistral-7b',\n    'Experience cutting-edge technology with the ZenTime Super-V1, a sleek and ultra-thin smartphone designed for those who demand elegance and performance. Crafted with a premium glass and aluminum body, its 6.7-inch OLED display delivers stunning clarity and vibrant colors, making every visual immersive.'\n) AS Prod_desc_token_count;",
   "execution_count": null
  },
  {
   "cell_type": "code",
   "id": "d6077fa9-648b-4c36-937a-1a8110ba1602",
   "metadata": {
    "language": "sql",
    "name": "Try_Complete_incorrect_model_name",
    "codeCollapsed": false
   },
   "outputs": [],
   "source": "SELECT SNOWFLAKE.CORTEX.TRY_COMPLETE(\n    'mistral-7bb',\n    'Generate a catchy but short tagline for our new ZenTime Super-V1 Smartphone.'\n) AS product_tagline;",
   "execution_count": null
  },
  {
   "cell_type": "code",
   "id": "94a3a497-0220-4e9c-8ee3-bc2fd088e2c1",
   "metadata": {
    "language": "sql",
    "name": "Try_Complete_corrected_model_name",
    "codeCollapsed": false
   },
   "outputs": [],
   "source": "SELECT SNOWFLAKE.CORTEX.TRY_COMPLETE(\n    'mistral-7b',\n    'Generate a catchy but short tagline for our new ZenTime Super-V1 Smartphone.'\n) AS product_tagline;",
   "execution_count": null
  },
  {
   "cell_type": "code",
   "id": "10512f1e-200c-4a0e-b688-d3d060ce4de1",
   "metadata": {
    "language": "sql",
    "name": "EMBED_TEXT_768",
    "codeCollapsed": false
   },
   "outputs": [],
   "source": "SELECT SNOWFLAKE.CORTEX.EMBED_TEXT_768('snowflake-arctic-embed-m','The Support team needs to be updated of the changes in the next release' )  AS EMBEDDINGS_768;",
   "execution_count": null
  },
  {
   "cell_type": "code",
   "id": "97cc51db-dc3c-4b05-820c-421f5d712c17",
   "metadata": {
    "language": "sql",
    "name": "EMBED_TEXT_1024"
   },
   "outputs": [],
   "source": "SELECT SNOWFLAKE.CORTEX.EMBED_TEXT_1024('snowflake-arctic-embed-l-v2.0','The Support team needs to be updated of the changes in the next release' )  AS EMBEDDINGS_1024;",
   "execution_count": null
  },
  {
   "cell_type": "markdown",
   "id": "050c5df4-3e8a-4691-b2e6-fdead9230572",
   "metadata": {
    "name": "cell4",
    "collapsed": false
   },
   "source": "#### * Ensure that the stage SAMPLE_STG has been created (Refer - Create Stage.sql) and Invoice_Details.pdf has been uploaded *"
  },
  {
   "cell_type": "code",
   "id": "0850b664-1232-4beb-a00f-5f6dc8c626b2",
   "metadata": {
    "language": "sql",
    "name": "cell3"
   },
   "outputs": [],
   "source": "ls @SAMPLE_STG;",
   "execution_count": null
  },
  {
   "cell_type": "code",
   "id": "f99fb808-dd44-4a24-80c1-d886ec36e99d",
   "metadata": {
    "language": "sql",
    "name": "Parse_Document_Layout"
   },
   "outputs": [],
   "source": "SELECT \n    SNOWFLAKE.CORTEX.PARSE_DOCUMENT(\n      @CORTEX_AI_DB.PUBLIC.SAMPLE_STG,\n      'Invoice_Details.pdf',\n      {'mode': 'LAYOUT'}\n    )::STRING AS document_text;",
   "execution_count": null
  },
  {
   "cell_type": "code",
   "id": "9b5ff4fa-90f5-4dc7-9fca-55e0e7e3e212",
   "metadata": {
    "language": "sql",
    "name": "Parse_Document_OCR",
    "codeCollapsed": false
   },
   "outputs": [],
   "source": "SELECT \n    SNOWFLAKE.CORTEX.PARSE_DOCUMENT(\n      @CORTEX_AI_DB.PUBLIC.SAMPLE_STG,\n      'Invoice_Details.pdf',\n      {'mode': 'OCR'}\n    )::STRING AS document_text;",
   "execution_count": null
  }
 ]
}