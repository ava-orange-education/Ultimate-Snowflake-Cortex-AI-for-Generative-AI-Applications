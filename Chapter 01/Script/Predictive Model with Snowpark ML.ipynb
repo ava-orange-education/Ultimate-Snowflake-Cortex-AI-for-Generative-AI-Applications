{
 "metadata": {
  "kernelspec": {
   "display_name": "Python 3",
   "language": "python",
   "name": "python3"
  },
  "language_info": {
   "codemirror_mode": {
    "name": "ipython",
    "version": 3
   },
   "file_extension": ".py",
   "mimetype": "text/x-python",
   "name": "python",
   "nbconvert_exporter": "python",
   "pygments_lexer": "ipython3",
   "version": "3.10.7"
  },
  "lastEditStatus": {
   "notebookId": "5f3ehncv5p365tptr2nd",
   "authorId": "4153441345101",
   "authorName": "GENAI",
   "authorEmail": "krish.srinivasans@gmail.com",
   "sessionId": "671071d9-c928-459d-a6d4-c5f59b5025a5",
   "lastEditTime": 1747029127145
  }
 },
 "nbformat_minor": 2,
 "nbformat": 4,
 "cells": [
  {
   "cell_type": "markdown",
   "id": "ff236803-2156-46e6-95a4-39f1a23b3cf7",
   "metadata": {
    "name": "Snowpark_ML",
    "collapsed": false
   },
   "source": "## Building a Predictive Model with Snowpark ML"
  },
  {
   "cell_type": "markdown",
   "id": "d326f977-d261-486a-803e-cae8734d8fa6",
   "metadata": {
    "name": "ImportingLibraries",
    "collapsed": false
   },
   "source": "## 1. Import the following Libraries: (Use the Packages option above)\n\ni) snowflake-ml-python\n\nii) pandas"
  },
  {
   "cell_type": "code",
   "execution_count": 3,
   "metadata": {
    "name": "cell1",
    "language": "python",
    "codeCollapsed": false
   },
   "outputs": [],
   "source": [
    "# Import of Libraries\n",
    "import warnings\n",
    "\n",
    "import pandas as pd\n",
    "from snowflake.ml.modeling.impute import SimpleImputer\n",
    "from snowflake.ml.modeling.metrics import accuracy_score\n",
    "from snowflake.ml.modeling.model_selection import GridSearchCV\n",
    "from snowflake.ml.modeling.preprocessing import LabelEncoder\n",
    "from snowflake.ml.modeling.ensemble import RandomForestClassifier\n",
    "# from snowflake.ml.utils.connection_params import SnowflakeLoginOptions\n",
    "from snowflake.snowpark import Session\n",
    "from snowflake.snowpark import types as T\n",
    "from snowflake.snowpark.functions import col\n",
    "\n",
    "warnings.simplefilter(action=\"ignore\", category=UserWarning)"
   ],
   "id": "ce110000-1111-2222-3333-ffffff000000"
  },
  {
   "cell_type": "markdown",
   "id": "84263945-2a05-41a6-950d-bc14c6a20da6",
   "metadata": {
    "name": "ImportRegistry",
    "collapsed": false
   },
   "source": "## 2. Importing the Snowflake ML Registry\n\nLoads the Registry module, which enables storing, managing, and retrieving trained ML models in Snowflake."
  },
  {
   "cell_type": "code",
   "execution_count": 4,
   "metadata": {
    "name": "cell22",
    "language": "python",
    "codeCollapsed": false
   },
   "outputs": [],
   "source": [
    "from snowflake.ml.registry import Registry\n",
    "# from snowflake.ml.registry import model_registry"
   ],
   "id": "ce110000-1111-2222-3333-ffffff000001"
  },
  {
   "cell_type": "markdown",
   "id": "46ee56e0-0c15-4430-bdc7-3e657e006603",
   "metadata": {
    "name": "GetActiveSession",
    "collapsed": false
   },
   "source": "## 3. Getting the Active Snowflake Session\n\nEstablishes an active Snowflake session, which is required for executing Snowpark operations."
  },
  {
   "cell_type": "code",
   "execution_count": 6,
   "metadata": {
    "name": "cell4",
    "language": "python",
    "codeCollapsed": false
   },
   "outputs": [],
   "source": "session = get_active_session()",
   "id": "ce110000-1111-2222-3333-ffffff000003"
  },
  {
   "cell_type": "markdown",
   "id": "ab34783a-550f-494d-a4df-ba3778628897",
   "metadata": {
    "name": "Load_LoanData",
    "collapsed": false
   },
   "source": "## 4. Loading Loan Data from Snowflake Table\n\nRetrieves data from the LOAN_DATA table in Snowflake and loads it into a Snowpark DataFrame. The goal is to predict whether loan could be approved for a customer or not. The show() function displays a sample of the dataset."
  },
  {
   "cell_type": "code",
   "execution_count": 7,
   "metadata": {
    "name": "cell5",
    "language": "python",
    "codeCollapsed": false
   },
   "outputs": [
    {
     "name": "stdout",
     "output_type": "stream",
     "text": [
      "----------------------------------------------------------------------------------------------------------------------------------------\n",
      "|\"NAME\"   |\"MARITAL_STATUS\"  |\"DAYS_ACT_OPEN\"  |\"AGE\"  |\"INCOME\"  |\"ANY_PREVIOUS_DEFAULT\"  |\"GENDER\"  |\"OCCUPATION\"  |\"LOAN_APPROVAL\"  |\n",
      "----------------------------------------------------------------------------------------------------------------------------------------\n",
      "|John     |Single            |2058             |28     |3000      |False                   |M         |Engineer      |1                |\n",
      "|Mary     |Married           |2487             |34     |5000      |True                    |F         |Teacher       |0                |\n",
      "|David    |Single            |1577             |22     |2000      |False                   |M         |Doctor        |1                |\n",
      "|Sarah    |Married           |2896             |40     |8000      |False                   |F         |Engineer      |1                |\n",
      "|Mike     |Single            |2349             |32     |4000      |True                    |M         |Artist        |0                |\n",
      "|Emily    |Married           |2118             |29     |3500      |False                   |F         |Student       |1                |\n",
      "|Robert   |Single            |3400             |47     |6000      |True                    |M         |Engineer      |0                |\n",
      "|Jessica  |Married           |2314             |32     |4500      |False                   |F         |Manager       |1                |\n",
      "|Kevin    |Single            |2549             |35     |5500      |False                   |M         |Engineer      |1                |\n",
      "|Lisa     |Married           |1948             |27     |3200      |True                    |F         |NULL          |0                |\n",
      "----------------------------------------------------------------------------------------------------------------------------------------\n",
      "\n"
     ]
    }
   ],
   "source": "loan_df = session.table(\"LOAN_DATA\")\nloan_df.show()",
   "id": "ce110000-1111-2222-3333-ffffff000004"
  },
  {
   "cell_type": "markdown",
   "id": "eaf964da-5f67-4c0b-bdc3-2f041365d43e",
   "metadata": {
    "name": "Cat_continous_variables",
    "collapsed": false
   },
   "source": "## 5. Separating Categorical and Continuous Variables\n\nGroup the categorical and continuous feature columns separately to facilitate preprocessing."
  },
  {
   "cell_type": "code",
   "execution_count": 10,
   "metadata": {
    "name": "cell8",
    "language": "python",
    "collapsed": false
   },
   "outputs": [],
   "source": "cat_cols = ['GENDER', 'MARITAL_STATUS','OCCUPATION']\ncont_cols = ['DAYS_ACT_OPEN', 'AGE', 'INCOME']",
   "id": "ce110000-1111-2222-3333-ffffff000007"
  },
  {
   "cell_type": "markdown",
   "id": "d79aa5ab-51a7-43e9-8159-933e8a5dd451",
   "metadata": {
    "name": "MissingValues",
    "collapsed": false
   },
   "source": "## 6. Handling Missing Values using Imputation\n\nUses SimpleImputer to replace missing values in categorical columns with the most frequently occurring value."
  },
  {
   "cell_type": "code",
   "execution_count": 11,
   "metadata": {
    "name": "cell9",
    "language": "python",
    "collapsed": false,
    "codeCollapsed": false
   },
   "outputs": [
    {
     "name": "stderr",
     "output_type": "stream",
     "text": [
      "Input value type doesn't match the target column data type, this replacement was skipped. Column Name: \"ANY_PREVIOUS_DEFAULT\", Type: StringType(16777216), Input Value: False, Type: <class 'bool'>\n"
     ]
    },
    {
     "name": "stdout",
     "output_type": "stream",
     "text": [
      "----------------------------------------------------------------------------------------------------------------------------------------\n",
      "|\"GENDER\"  |\"MARITAL_STATUS\"  |\"ANY_PREVIOUS_DEFAULT\"  |\"OCCUPATION\"  |\"NAME\"   |\"DAYS_ACT_OPEN\"  |\"AGE\"  |\"INCOME\"  |\"LOAN_APPROVAL\"  |\n",
      "----------------------------------------------------------------------------------------------------------------------------------------\n",
      "|M         |Single            |false                   |Engineer      |John     |2058             |28     |3000      |1                |\n",
      "|F         |Married           |true                    |Teacher       |Mary     |2487             |34     |5000      |0                |\n",
      "|M         |Single            |false                   |Doctor        |David    |1577             |22     |2000      |1                |\n",
      "|F         |Married           |false                   |Engineer      |Sarah    |2896             |40     |8000      |1                |\n",
      "|M         |Single            |true                    |Artist        |Mike     |2349             |32     |4000      |0                |\n",
      "|F         |Married           |false                   |Student       |Emily    |2118             |29     |3500      |1                |\n",
      "|M         |Single            |true                    |Engineer      |Robert   |3400             |47     |6000      |0                |\n",
      "|F         |Married           |false                   |Manager       |Jessica  |2314             |32     |4500      |1                |\n",
      "|M         |Single            |false                   |Engineer      |Kevin    |2549             |35     |5500      |1                |\n",
      "|F         |Married           |true                    |Engineer      |Lisa     |1948             |27     |3200      |0                |\n",
      "----------------------------------------------------------------------------------------------------------------------------------------\n",
      "\n"
     ]
    }
   ],
   "source": "impute_cat = SimpleImputer(\n    input_cols=cat_cols,\n    output_cols=cat_cols,\n    strategy=\"most_frequent\",\n    drop_input_cols=True,\n)\n\nloan_df = impute_cat.fit(loan_df).transform(loan_df)\nloan_df.show()",
   "id": "ce110000-1111-2222-3333-ffffff000008"
  },
  {
   "cell_type": "markdown",
   "id": "6513a78c-c7da-4d6f-9e41-031e4c12ff29",
   "metadata": {
    "name": "LabelEncoding",
    "collapsed": false
   },
   "source": "## 7. Label Encoding Categorical Variables\n\nConverts categorical values into numerical representations using label encoding."
  },
  {
   "cell_type": "code",
   "execution_count": 12,
   "metadata": {
    "name": "cell10",
    "language": "python",
    "collapsed": false
   },
   "outputs": [
    {
     "name": "stdout",
     "output_type": "stream",
     "text": [
      "----------------------------------------------------------------------------------------------------------------------------------------\n",
      "|\"OCCUPATION\"  |\"ANY_PREVIOUS_DEFAULT\"  |\"MARITAL_STATUS\"  |\"GENDER\"  |\"NAME\"   |\"DAYS_ACT_OPEN\"  |\"AGE\"  |\"INCOME\"  |\"LOAN_APPROVAL\"  |\n",
      "----------------------------------------------------------------------------------------------------------------------------------------\n",
      "|2.0           |0.0                     |1.0               |1.0       |John     |2058             |28     |3000      |1                |\n",
      "|5.0           |1.0                     |0.0               |0.0       |Mary     |2487             |34     |5000      |0                |\n",
      "|1.0           |0.0                     |1.0               |1.0       |David    |1577             |22     |2000      |1                |\n",
      "|2.0           |0.0                     |0.0               |0.0       |Sarah    |2896             |40     |8000      |1                |\n",
      "|0.0           |1.0                     |1.0               |1.0       |Mike     |2349             |32     |4000      |0                |\n",
      "|4.0           |0.0                     |0.0               |0.0       |Emily    |2118             |29     |3500      |1                |\n",
      "|2.0           |1.0                     |1.0               |1.0       |Robert   |3400             |47     |6000      |0                |\n",
      "|3.0           |0.0                     |0.0               |0.0       |Jessica  |2314             |32     |4500      |1                |\n",
      "|2.0           |0.0                     |1.0               |1.0       |Kevin    |2549             |35     |5500      |1                |\n",
      "|2.0           |1.0                     |0.0               |0.0       |Lisa     |1948             |27     |3200      |0                |\n",
      "----------------------------------------------------------------------------------------------------------------------------------------\n",
      "\n"
     ]
    }
   ],
   "source": "# Label Encoding\nfor i in cat_cols:\n    LE = LabelEncoder(\n    input_cols=i,\n    output_cols=f\"{i}_ENCODED\",\n    drop_input_cols=True)\n    loan_df = LE.fit(loan_df).transform(loan_df)\n    \n   \n\n",
   "id": "ce110000-1111-2222-3333-ffffff000009"
  },
  {
   "cell_type": "code",
   "id": "16cb42ad-26fa-4ae1-8aef-c0e624e7953b",
   "metadata": {
    "language": "python",
    "name": "cell3333",
    "collapsed": false,
    "codeCollapsed": false
   },
   "outputs": [],
   "source": "\nloan_df.show()",
   "execution_count": null
  },
  {
   "cell_type": "markdown",
   "id": "2c2e8675-20a4-453f-a685-2505170808c0",
   "metadata": {
    "name": "DropName",
    "collapsed": false
   },
   "source": "## 8. Dropping Unused Columns\n\nRemove the NAME column, as it is irrelevant for predictive modeling."
  },
  {
   "cell_type": "code",
   "execution_count": 13,
   "metadata": {
    "name": "cell11",
    "language": "python",
    "collapsed": false
   },
   "outputs": [],
   "source": "loan_df = loan_df.drop(\"NAME\")",
   "id": "ce110000-1111-2222-3333-ffffff000010"
  },
  {
   "cell_type": "markdown",
   "id": "d2337a73-7e5e-4336-a77d-0651a4cb2af4",
   "metadata": {
    "name": "TrainTestSplit",
    "collapsed": false
   },
   "source": "## 9. Splitting Data into Training and Testing Sets\n\nSplit the dataset into an 80% training set and a 20% test set, using a fixed seed for reproducibility."
  },
  {
   "cell_type": "code",
   "execution_count": 14,
   "metadata": {
    "name": "cell12",
    "language": "python",
    "collapsed": false,
    "codeCollapsed": false
   },
   "outputs": [],
   "source": "train_df, test_df = loan_df.random_split(weights=[0.8, 0.2], seed=8)",
   "id": "ce110000-1111-2222-3333-ffffff000011"
  },
  {
   "cell_type": "markdown",
   "id": "de2e4448-0704-443c-944f-3ac227bb816c",
   "metadata": {
    "name": "RandomForestClassifier",
    "collapsed": false
   },
   "source": "## 10. Initializing a Random Forest Classifier and fitting it on training data\n \nCreate a RandomForestClassifier model and define input features, target label, and output column. The model is then fitted against the training dataset"
  },
  {
   "cell_type": "code",
   "execution_count": 15,
   "metadata": {
    "name": "cell13",
    "language": "python",
    "collapsed": false,
    "codeCollapsed": false
   },
   "outputs": [],
   "source": "# Random forest model\nregressor = RandomForestClassifier(\n    input_cols=train_df.drop(\"LOAN_APPROVAL\").columns,\n    label_cols=\"LOAN_APPROVAL\",\n    output_cols=\"PRED_APPROVED\"\n)\nregressor.fit(train_df)",
   "id": "ce110000-1111-2222-3333-ffffff000012"
  },
  {
   "cell_type": "markdown",
   "id": "fe6ae8a2-01fc-48c3-8c5b-bd1c90fa6ddb",
   "metadata": {
    "name": "SetupRegistry",
    "collapsed": false
   },
   "source": "## 11. Setting up the Model Registry\n\nTo use a trained machine learning model for predictions within Snowflake, you must first register it in the Snowflake Model Registry. This secure repository allows you to manage your models and their associated information within Snowflake, regardless of the model's origin or type. Once registered, running inference on the model becomes straightforward.\nThe command below initializes a Snowflake ML model registry and prepares it to log the trained model."
  },
  {
   "cell_type": "code",
   "execution_count": 17,
   "metadata": {
    "name": "cell15",
    "language": "python",
    "collapsed": false,
    "codeCollapsed": false
   },
   "outputs": [],
   "source": "# Create a registry to log the model\nreg = Registry(session=session, database_name='SNOWPARK_ML_DEMO', \n               schema_name='PUBLIC' )",
   "id": "ce110000-1111-2222-3333-ffffff000014"
  },
  {
   "cell_type": "markdown",
   "id": "4a1e5b97-67b0-4ec3-ac49-e4600a613688",
   "metadata": {
    "name": "cell16",
    "collapsed": false
   },
   "source": "# Model Registry"
  },
  {
   "cell_type": "markdown",
   "id": "d982e9aa-cf0a-40bd-8a48-9e60527bfde7",
   "metadata": {
    "name": "LogModel",
    "collapsed": false
   },
   "source": "## 12. Logging the Model into Registry\nStore the trained model in the Snowflake model registry as version V1."
  },
  {
   "cell_type": "code",
   "execution_count": null,
   "metadata": {
    "name": "cell17",
    "language": "python",
    "collapsed": false,
    "codeCollapsed": false
   },
   "outputs": [],
   "source": "# Logging our model in the Registry\n\n# Define model name and version (use uppercase for name)\nmodel_name = \"LOAN\"\nmodel_version = 'V1'\n\n# Get sample input data to pass into the registry logging function\nX = train_df.drop(\"LOAN_APPROVAL\")\n\n# Let's first log the very first model we trained\nmodel_ver = reg.log_model(\n    model_name=model_name,\n    version_name=model_version,\n    model=regressor,\n    sample_input_data=X, # to provide the feature schema\n)",
   "id": "ce110000-1111-2222-3333-ffffff000016"
  },
  {
   "cell_type": "markdown",
   "id": "178a0901-1efc-4bbd-8593-1e4e6ed01a9e",
   "metadata": {
    "name": "ListModels",
    "collapsed": false
   },
   "source": "## 13. Listing Registered Models\nDisplay all models stored in the model registry.\n\n"
  },
  {
   "cell_type": "code",
   "execution_count": 18,
   "metadata": {
    "name": "cell18",
    "language": "python",
    "collapsed": false,
    "codeCollapsed": false
   },
   "outputs": [
    {
     "data": {
      "text/html": [
       "<div>\n",
       "<style scoped>\n",
       "    .dataframe tbody tr th:only-of-type {\n",
       "        vertical-align: middle;\n",
       "    }\n",
       "\n",
       "    .dataframe tbody tr th {\n",
       "        vertical-align: top;\n",
       "    }\n",
       "\n",
       "    .dataframe thead th {\n",
       "        text-align: right;\n",
       "    }\n",
       "</style>\n",
       "<table border=\"1\" class=\"dataframe\">\n",
       "  <thead>\n",
       "    <tr style=\"text-align: right;\">\n",
       "      <th></th>\n",
       "      <th>created_on</th>\n",
       "      <th>name</th>\n",
       "      <th>database_name</th>\n",
       "      <th>schema_name</th>\n",
       "      <th>comment</th>\n",
       "      <th>owner</th>\n",
       "      <th>default_version_name</th>\n",
       "      <th>versions</th>\n",
       "    </tr>\n",
       "  </thead>\n",
       "  <tbody>\n",
       "    <tr>\n",
       "      <th>0</th>\n",
       "      <td>2024-03-06 00:02:15.909000-08:00</td>\n",
       "      <td>LOAN</td>\n",
       "      <td>LOAN</td>\n",
       "      <td>DEPARTMENT</td>\n",
       "      <td>None</td>\n",
       "      <td>ACCOUNTADMIN</td>\n",
       "      <td>V0</td>\n",
       "      <td>[\"V0\"]</td>\n",
       "    </tr>\n",
       "  </tbody>\n",
       "</table>\n",
       "</div>"
      ],
      "text/plain": [
       "                        created_on  name database_name schema_name comment  \\\n",
       "0 2024-03-06 00:02:15.909000-08:00  LOAN          LOAN  DEPARTMENT    None   \n",
       "\n",
       "          owner default_version_name versions  \n",
       "0  ACCOUNTADMIN                   V0   [\"V0\"]  "
      ]
     },
     "execution_count": 18,
     "metadata": {},
     "output_type": "execute_result"
    }
   ],
   "source": [
    "# List model\n",
    "reg.show_models()"
   ],
   "id": "ce110000-1111-2222-3333-ffffff000017"
  },
  {
   "cell_type": "markdown",
   "id": "5fa043b0-7564-4a22-b022-74b2d8100480",
   "metadata": {
    "name": "ListVersions",
    "collapsed": false
   },
   "source": "## 14. Listing Model Versions\nRetrieve and display the different versions of the LOAN model.We have just the one version (V1)"
  },
  {
   "cell_type": "code",
   "execution_count": 31,
   "metadata": {
    "name": "cell33",
    "language": "python",
    "collapsed": false,
    "codeCollapsed": false
   },
   "outputs": [
    {
     "data": {
      "text/html": [
       "<div>\n",
       "<style scoped>\n",
       "    .dataframe tbody tr th:only-of-type {\n",
       "        vertical-align: middle;\n",
       "    }\n",
       "\n",
       "    .dataframe tbody tr th {\n",
       "        vertical-align: top;\n",
       "    }\n",
       "\n",
       "    .dataframe thead th {\n",
       "        text-align: right;\n",
       "    }\n",
       "</style>\n",
       "<table border=\"1\" class=\"dataframe\">\n",
       "  <thead>\n",
       "    <tr style=\"text-align: right;\">\n",
       "      <th></th>\n",
       "      <th>created_on</th>\n",
       "      <th>name</th>\n",
       "      <th>comment</th>\n",
       "      <th>database_name</th>\n",
       "      <th>schema_name</th>\n",
       "      <th>module_name</th>\n",
       "      <th>is_default_version</th>\n",
       "      <th>functions</th>\n",
       "      <th>metadata</th>\n",
       "      <th>user_data</th>\n",
       "    </tr>\n",
       "  </thead>\n",
       "  <tbody>\n",
       "    <tr>\n",
       "      <th>0</th>\n",
       "      <td>2024-03-06 00:02:15.942000-08:00</td>\n",
       "      <td>V0</td>\n",
       "      <td>None</td>\n",
       "      <td>LOAN</td>\n",
       "      <td>DEPARTMENT</td>\n",
       "      <td>LOAN</td>\n",
       "      <td>true</td>\n",
       "      <td>[\"PREDICT_PROBA\",\"PREDICT\",\"PREDICT_LOG_PROBA\"]</td>\n",
       "      <td>{}</td>\n",
       "      <td>{\"snowpark_ml_data\":{\"functions\":[{\"name\":\"PRE...</td>\n",
       "    </tr>\n",
       "    <tr>\n",
       "      <th>1</th>\n",
       "      <td>2024-03-06 00:22:13.240000-08:00</td>\n",
       "      <td>V1</td>\n",
       "      <td>None</td>\n",
       "      <td>LOAN</td>\n",
       "      <td>DEPARTMENT</td>\n",
       "      <td>LOAN</td>\n",
       "      <td>false</td>\n",
       "      <td>[\"PREDICT_PROBA\",\"PREDICT\",\"PREDICT_LOG_PROBA\"]</td>\n",
       "      <td>{\"metrics\": {\"accuracy\": 1.0}, \"snowpark_ml_sc...</td>\n",
       "      <td>{\"snowpark_ml_data\":{\"functions\":[{\"name\":\"PRE...</td>\n",
       "    </tr>\n",
       "  </tbody>\n",
       "</table>\n",
       "</div>"
      ],
      "text/plain": [
       "                        created_on name comment database_name schema_name  \\\n",
       "0 2024-03-06 00:02:15.942000-08:00   V0    None          LOAN  DEPARTMENT   \n",
       "1 2024-03-06 00:22:13.240000-08:00   V1    None          LOAN  DEPARTMENT   \n",
       "\n",
       "  module_name is_default_version  \\\n",
       "0        LOAN               true   \n",
       "1        LOAN              false   \n",
       "\n",
       "                                         functions  \\\n",
       "0  [\"PREDICT_PROBA\",\"PREDICT\",\"PREDICT_LOG_PROBA\"]   \n",
       "1  [\"PREDICT_PROBA\",\"PREDICT\",\"PREDICT_LOG_PROBA\"]   \n",
       "\n",
       "                                            metadata  \\\n",
       "0                                                 {}   \n",
       "1  {\"metrics\": {\"accuracy\": 1.0}, \"snowpark_ml_sc...   \n",
       "\n",
       "                                           user_data  \n",
       "0  {\"snowpark_ml_data\":{\"functions\":[{\"name\":\"PRE...  \n",
       "1  {\"snowpark_ml_data\":{\"functions\":[{\"name\":\"PRE...  "
      ]
     },
     "execution_count": 31,
     "metadata": {},
     "output_type": "execute_result"
    }
   ],
   "source": "reg.get_model(model_name).show_versions()",
   "id": "ce110000-1111-2222-3333-ffffff000032"
  },
  {
   "cell_type": "markdown",
   "id": "946b4ff4-6d34-40b7-8e1a-62854b851c77",
   "metadata": {
    "name": "SetDefaultVersion",
    "collapsed": false
   },
   "source": "## 15. Setting a Default Model Version\nAssign V1 as the default model version for deployment and predictions."
  },
  {
   "cell_type": "code",
   "execution_count": 32,
   "metadata": {
    "name": "cell34",
    "language": "python",
    "collapsed": false,
    "codeCollapsed": false
   },
   "outputs": [],
   "source": "m = reg.get_model(model_name)\nm.default = 'V1'\nmod_v = m.default",
   "id": "ce110000-1111-2222-3333-ffffff000033"
  },
  {
   "cell_type": "markdown",
   "id": "51ff8605-fa54-4cda-a571-85f245bb594f",
   "metadata": {
    "name": "RunPredictions",
    "collapsed": false
   },
   "source": "## 16. Running Predictions on Test Data\nUse the registered model to generate predictions for loan approval on the test dataset."
  },
  {
   "cell_type": "code",
   "execution_count": 39,
   "metadata": {
    "name": "cell36",
    "language": "python",
    "collapsed": false,
    "codeCollapsed": false
   },
   "outputs": [
    {
     "name": "stdout",
     "output_type": "stream",
     "text": [
      "---------------------------------------------------------------------------------------------------------------------------------------------------------------------------\n",
      "|\"LOAN_APPROVAL\"  |\"OCCUPATION\"  |\"ANY_PREVIOUS_DEFAULT\"  |\"MARITAL_STATUS\"  |\"GENDER\"  |\"DAYS_ACT_OPEN\"  |\"AGE\"  |\"INCOME\"  |\"PREDICT_PROBA_0\"     |\"PREDICT_PROBA_1\"    |\n",
      "---------------------------------------------------------------------------------------------------------------------------------------------------------------------------\n",
      "|1                |4.0           |0.0                     |0.0               |0.0       |2118             |29     |3500      |0.05133735708735709   |0.9486626429126428   |\n",
      "|0                |2.0           |1.0                     |1.0               |1.0       |3400             |47     |6000      |0.8580779220779223    |0.14192207792207795  |\n",
      "|1                |3.0           |0.0                     |0.0               |0.0       |2314             |32     |4500      |0.06971343933843933   |0.9302865606615606   |\n",
      "|0                |2.0           |1.0                     |0.0               |0.0       |1948             |27     |3200      |0.5813075951825952    |0.4186924048174048   |\n",
      "|1                |4.0           |0.0                     |0.0               |0.0       |2325             |32     |4200      |0.08514201076701078   |0.9148579892329892   |\n",
      "|1                |2.0           |0.0                     |0.0               |0.0       |2134             |29     |4200      |0.029932595182595174  |0.9700674048174048   |\n",
      "|0                |4.0           |1.0                     |1.0               |0.0       |1900             |26     |4200      |0.6084325951825953    |0.3915674048174048   |\n",
      "|0                |3.0           |1.0                     |0.0               |1.0       |2360             |32     |7000      |0.7607395382395383    |0.23926046176046176  |\n",
      "|0                |2.0           |1.0                     |0.0               |0.0       |2250             |31     |5000      |0.6041551226551226    |0.3958448773448773   |\n",
      "---------------------------------------------------------------------------------------------------------------------------------------------------------------------------\n",
      "\n"
     ]
    }
   ],
   "source": "# Predictions \ntest_prediction = mod_v.run(test_df, function_name=\"predict\")\ntest_prediction.show()",
   "id": "ce110000-1111-2222-3333-ffffff000035"
  },
  {
   "cell_type": "markdown",
   "id": "ebf9b9cb-7487-4a29-a032-a514171b942b",
   "metadata": {
    "name": "cell3",
    "collapsed": false
   },
   "source": "## 17. Verify Model Accuracy"
  },
  {
   "cell_type": "code",
   "id": "db8e9390-26b5-4fe3-a9f9-9be793c92711",
   "metadata": {
    "language": "python",
    "name": "cell2"
   },
   "outputs": [],
   "source": "from snowflake.ml.modeling.metrics import accuracy_score\n# Accuracy of model\naccuracy = accuracy_score(\n    df=test_prediction, y_true_col_names=\"LOAN_APPROVAL\", y_pred_col_names=\"PRED_APPROVED\"\n)\n\nprint(f\"Accuracy: {accuracy}\")",
   "execution_count": null
  },
  {
   "cell_type": "markdown",
   "id": "25976d6f-4555-4da5-8b38-5e2a333eb498",
   "metadata": {
    "name": "StoreData",
    "collapsed": false
   },
   "source": "## 18. Storing Test data in a Snowflake table"
  },
  {
   "cell_type": "code",
   "execution_count": 39,
   "metadata": {
    "name": "cell37",
    "language": "python",
    "codeCollapsed": false
   },
   "outputs": [],
   "source": "test_df.write.mode(\"overwrite\").save_as_table(\"LOAN_TEST_DATA\")",
   "id": "ce110000-1111-2222-3333-ffffff000036"
  },
  {
   "cell_type": "markdown",
   "id": "a687b3f5-897a-4b12-aa05-f0c09bd182b6",
   "metadata": {
    "name": "QueryData",
    "collapsed": false
   },
   "source": "## 19. Querying the Test data table"
  },
  {
   "cell_type": "code",
   "id": "c4330cc1-aec9-4452-abef-5086aeb90e2a",
   "metadata": {
    "language": "python",
    "name": "cell30",
    "codeCollapsed": false
   },
   "outputs": [],
   "source": "loan_df_test = session.table(\"LOAN_TEST_DATA\")\nloan_df_test.show()",
   "execution_count": null
  }
 ]
}