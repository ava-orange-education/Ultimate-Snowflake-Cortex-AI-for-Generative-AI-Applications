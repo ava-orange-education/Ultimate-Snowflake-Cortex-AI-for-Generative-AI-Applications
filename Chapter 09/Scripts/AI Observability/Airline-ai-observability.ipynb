{
 "metadata": {
  "kernelspec": {
   "display_name": "Streamlit Notebook",
   "name": "streamlit"
  },
  "lastEditStatus": {
   "notebookId": "4mor2hrcb4hlwbi37gi2",
   "authorId": "8572781096785",
   "authorName": "GENAI",
   "authorEmail": "krish.srinivasans@gmail.com",
   "sessionId": "eadbc426-90c8-4988-a555-20d784636dac",
   "lastEditTime": 1746689398144
  }
 },
 "nbformat_minor": 5,
 "nbformat": 4,
 "cells": [
  {
   "cell_type": "markdown",
   "id": "3a4592fd-4b80-477a-a701-193c6c243b58",
   "metadata": {
    "collapsed": false,
    "name": "title",
    "resultHeight": 74
   },
   "source": "# AI Observability for Airline Search Service\n\n \nBefore beginning, install the following packages using the packages menu at the top right of this notebook: `snowflake-ml-python`, `snowflake.core`, `trulens-core`, `trulens-providers-cortex`, `trulens-connectors-snowflake`"
  },
  {
   "cell_type": "markdown",
   "id": "1c4cb285-af0b-41ce-9bdb-c5472489000b",
   "metadata": {
    "name": "ensure_objects_data_load",
    "collapsed": false
   },
   "source": "## Run \"Create Objects and Load Data.sql\" before running the steps below"
  },
  {
   "cell_type": "markdown",
   "id": "0a1550b9-345a-4b6d-9ee2-0cf064464a53",
   "metadata": {
    "collapsed": false,
    "name": "session_initialization",
    "resultHeight": 60
   },
   "source": "## Initialize the session"
  },
  {
   "cell_type": "code",
   "execution_count": null,
   "id": "a3105267-f3f3-457e-ae9f-310469dd5c00",
   "metadata": {
    "collapsed": false,
    "language": "python",
    "name": "initialize_session",
    "resultHeight": 0
   },
   "outputs": [],
   "source": [
    "from snowflake.snowpark.context import get_active_session\n",
    "session = get_active_session()"
   ]
  },
  {
   "cell_type": "markdown",
   "id": "1840b0d9-89a3-472f-aee5-92ae1717e231",
   "metadata": {
    "collapsed": false,
    "name": "markdown_verify_stage",
    "resultHeight": 60
   },
   "source": "## Ensure that the AIRLINE_STG has been created and the two Airline PDFs have been loaded to this stage.\n## Verify the PDF Files are uploaded successfully"
  },
  {
   "cell_type": "code",
   "execution_count": null,
   "id": "a7f0aeb5-1683-47e0-a5a1-f253a0ee69e6",
   "metadata": {
    "collapsed": false,
    "language": "sql",
    "name": "list_from_stage",
    "vscode": {
     "languageId": "sql"
    }
   },
   "outputs": [],
   "source": "ls @cortex_ai_db.public.airline_stg"
  },
  {
   "cell_type": "markdown",
   "id": "81011f41-48b1-4c38-8ed6-a5ee1f5d8289",
   "metadata": {
    "collapsed": false,
    "name": "parse_pdfs_and_save",
    "resultHeight": 60
   },
   "source": "## Parse PDF Files and save the parsed text in a table "
  },
  {
   "cell_type": "code",
   "execution_count": null,
   "id": "d7d08d4e-c732-48e9-b526-e3bc848f10d9",
   "metadata": {
    "codeCollapsed": false,
    "collapsed": false,
    "language": "sql",
    "name": "parse_save_pdf_text",
    "vscode": {
     "languageId": "sql"
    }
   },
   "outputs": [],
   "source": "CREATE OR REPLACE TABLE CORTEX_AI_DB.PUBLIC.PARSED_AIRLINE_CONTENT AS SELECT \nrelative_path,\nTO_VARCHAR(\nSNOWFLAKE.CORTEX.PARSE_DOCUMENT(\n@cortex_ai_db.public.airline_stg, \nrelative_path, \n{'mode': 'LAYOUT'}\n) :content\n) AS parsed_text\nFROM directory(@cortex_ai_db.public.airline_stg)\nWHERE relative_path LIKE '%.pdf'"
  },
  {
   "cell_type": "markdown",
   "id": "e3ead637-437f-4218-b0f9-590847d4a918",
   "metadata": {
    "name": "view_table",
    "collapsed": false
   },
   "source": "## View the table containing the parsed texts"
  },
  {
   "cell_type": "code",
   "execution_count": null,
   "id": "5748401d-8846-408f-b35c-c9cdb58bcd1b",
   "metadata": {
    "codeCollapsed": false,
    "language": "sql",
    "name": "select_parsed_content",
    "vscode": {
     "languageId": "sql"
    }
   },
   "outputs": [],
   "source": "SELECT * FROM CORTEX_AI_DB.PUBLIC.PARSED_AIRLINE_CONTENT;"
  },
  {
   "cell_type": "markdown",
   "id": "2432741a-f082-4085-a15a-a67ebb6f0c05",
   "metadata": {
    "collapsed": false,
    "name": "store_chunks",
    "resultHeight": 102
   },
   "source": "# Storing Chunks\n### 1. Create a new table (CHUNKED_AIRLINE_CONTENT) to store chunks from parsed text.\n### 2. Insert the chunks derived from the parsed text into CHUNKED_AIRLINE_CONTENT by using SNOWFLAKE.CORTEX.SPLIT_TEXT_RECURSIVE_CHARACTER function\n### The SPLIT_TEXT_RECURSIVE_CHARACTER function divides text into smaller segments through a recursive process, optimizing content for text embedding or search indexing applications. It produces an array of text chunks derived from the original content based on specified parameters. This function is particularly useful when preparing text data for natural language processing tasks that require standardized text chunk sizes.The chunk_size and overlap can be experimented with."
  },
  {
   "cell_type": "code",
   "execution_count": null,
   "id": "63fca862-936f-489c-be8b-3e71410914d2",
   "metadata": {
    "codeCollapsed": false,
    "collapsed": false,
    "language": "sql",
    "name": "create_and_store_chunks",
    "vscode": {
     "languageId": "sql"
    }
   },
   "outputs": [],
   "source": "CREATE OR REPLACE TABLE CORTEX_AI_DB.PUBLIC.CHUNKED_AIRLINE_CONTENT (\n    file_name VARCHAR,\n    CHUNK VARCHAR\n);\n\nINSERT INTO CORTEX_AI_DB.PUBLIC.CHUNKED_AIRLINE_CONTENT (file_name, CHUNK)\nSELECT\n    relative_path,\n    c.value AS CHUNK\nFROM\n    CORTEX_AI_DB.PUBLIC.PARSED_AIRLINE_CONTENT,\n    LATERAL FLATTEN( input => SNOWFLAKE.CORTEX.SPLIT_TEXT_RECURSIVE_CHARACTER (\n        parsed_text,\n        'markdown',\n        1000,\n        120\n    )) c;"
  },
  {
   "cell_type": "markdown",
   "id": "e488d0e9-4878-46ee-84b1-61a5c5c4a1b7",
   "metadata": {
    "name": "view_chunks",
    "collapsed": false
   },
   "source": "## View the inserted chunked text outputs"
  },
  {
   "cell_type": "code",
   "execution_count": null,
   "id": "175499b5-7c4a-4fa0-9182-ceeeb2ec5e2a",
   "metadata": {
    "codeCollapsed": false,
    "collapsed": false,
    "language": "sql",
    "name": "view_chunks_from_table",
    "resultHeight": 0,
    "vscode": {
     "languageId": "sql"
    }
   },
   "outputs": [],
   "source": "SELECT * FROM CORTEX_AI_DB.PUBLIC.CHUNKED_AIRLINE_CONTENT;"
  },
  {
   "cell_type": "markdown",
   "id": "2ecbdbcd-6a4a-49ae-920f-f60524a2354f",
   "metadata": {
    "collapsed": false,
    "name": "search_service",
    "resultHeight": 60
   },
   "source": "## Create a Search Service"
  },
  {
   "cell_type": "code",
   "execution_count": null,
   "id": "b16b88ac-7fa2-408e-b7b4-44c2fe1539d1",
   "metadata": {
    "collapsed": false,
    "language": "sql",
    "name": "create_airline_search_service",
    "resultHeight": 0,
    "vscode": {
     "languageId": "sql"
    }
   },
   "outputs": [],
   "source": "CREATE OR REPLACE CORTEX SEARCH SERVICE CORTEX_AI_DB.PUBLIC.AIRLINE_SEARCH_SERVICE\n    ON chunk\n    WAREHOUSE = compute_wh\n    TARGET_LAG = '1 minute'\n    EMBEDDING_MODEL = 'snowflake-arctic-embed-l-v2.0'\n    AS (\n    SELECT\n        file_name,\n        chunk\n    FROM CORTEX_AI_DB.PUBLIC.CHUNKED_AIRLINE_CONTENT\n    );"
  },
  {
   "cell_type": "markdown",
   "id": "25cc75d5-dd7f-4779-98a7-cc3013891ee8",
   "metadata": {
    "collapsed": false,
    "name": "create_class_for_retrieval",
    "resultHeight": 60
   },
   "source": "## Creating a Class object in Python to store and call the Cortex service created above\n### We will create a class CortexSearchRetriever that connects to a Snowflake Cortex Search Service and retrieves search results based on a query. The search results are retrieved as a list of chunks."
  },
  {
   "cell_type": "code",
   "execution_count": null,
   "id": "b999eb72-2f6c-4e56-908b-048bb2110540",
   "metadata": {
    "codeCollapsed": false,
    "collapsed": false,
    "language": "python",
    "name": "class_for_search_results",
    "resultHeight": 0
   },
   "outputs": [],
   "source": "import os\nfrom snowflake.core import Root\nfrom typing import List\nfrom snowflake.snowpark.session import Session\n\nclass CortexSearchRetriever:\n\n    def __init__(self, snowpark_session: Session, limit_to_retrieve: int = 4):\n        self._snowpark_session = snowpark_session\n        self._limit_to_retrieve = limit_to_retrieve\n\n    def retrieve(self, query: str) -> List[str]:\n        root = Root(session)\n\n        search_service = (root\n          .databases[\"CORTEX_AI_DB\"]\n          .schemas[\"PUBLIC\"]\n          .cortex_search_services[\"AIRLINE_SEARCH_SERVICE\"]\n        )\n        resp = search_service.search(\n          query=query,\n          columns=[\"chunk\"],\n          limit=self._limit_to_retrieve\n        )\n\n        if resp.results:\n            return [curr[\"chunk\"] for curr in resp.results]\n        else:\n            return []"
  },
  {
   "cell_type": "markdown",
   "id": "46770ade-ff32-481d-b375-b25b41f1ab9f",
   "metadata": {
    "collapsed": false,
    "name": "setup_tracing"
   },
   "source": "## Turn on OpenTelemetry Tracing\n\nBefore constructing our Retrieval-Augmented Generation system, we will need to first set up TruLens-OpenTelemetry to provide comprehensive tracing and observability capabilities."
  },
  {
   "cell_type": "code",
   "execution_count": null,
   "id": "deaf3c55-cc8c-4ede-a16d-b21083ab44b7",
   "metadata": {
    "language": "python",
    "name": "enable_otel_tracing"
   },
   "outputs": [],
   "source": [
    "import os\n",
    "os.environ[\"TRULENS_OTEL_TRACING\"] = \"1\""
   ]
  },
  {
   "cell_type": "markdown",
   "id": "f93ce286-583c-4d2d-8943-175d8af0d144",
   "metadata": {
    "name": "set_schema_for_use",
    "collapsed": false
   },
   "source": "### Use cortex_ai_db.observability_schema to store our traces and evaluations "
  },
  {
   "cell_type": "code",
   "id": "9194de0b-b551-4b21-b307-8dbb186fc970",
   "metadata": {
    "language": "sql",
    "name": "use_obs_schema",
    "codeCollapsed": false
   },
   "outputs": [],
   "source": "use schema cortex_ai_db.observability_schema;",
   "execution_count": null
  },
  {
   "cell_type": "markdown",
   "id": "8f3c897d-043c-4e2f-8c34-a4a9fd23215d",
   "metadata": {
    "name": "ensure_table_load",
    "collapsed": false
   },
   "source": "## The airline file containing the test queries for RAG validation should already be loaded to a table that will be compared with for computing the LLM's performance metrics"
  },
  {
   "cell_type": "code",
   "id": "9725dda3-d84e-4df2-ab88-12c19d89fc15",
   "metadata": {
    "language": "sql",
    "name": "Verify_answers_table"
   },
   "outputs": [],
   "source": "select * from airline_queries_answers limit 5;",
   "execution_count": null
  },
  {
   "cell_type": "markdown",
   "id": "c1ddf32f-0af5-405f-b536-ff9c79cd94da",
   "metadata": {
    "collapsed": false,
    "name": "rag_creation"
   },
   "source": "## Create the RAG with instrumentation\n\nWe will implement the Retrieval-Augmented Generation system with built-in monitoring tools. By incorporating specific span types and attributes in our instrumentation, we will enable detailed evaluation of the captured performance data."
  },
  {
   "cell_type": "code",
   "execution_count": null,
   "id": "f6e31278-11c1-49e2-88a6-04eb58da532d",
   "metadata": {
    "codeCollapsed": false,
    "collapsed": false,
    "language": "python",
    "name": "create_rag_class",
    "resultHeight": 0
   },
   "outputs": [],
   "source": "from snowflake.cortex import complete\nfrom trulens.core.otel.instrument import instrument\nfrom trulens.otel.semconv.trace import SpanAttributes\n\nclass RAG:\n\n    def __init__(self):\n        self.retriever = CortexSearchRetriever(snowpark_session=session, limit_to_retrieve=4)\n\n    @instrument(\n        span_type=SpanAttributes.SpanType.RETRIEVAL,\n        attributes={\n            SpanAttributes.RETRIEVAL.QUERY_TEXT: \"query\",\n            SpanAttributes.RETRIEVAL.RETRIEVED_CONTEXTS: \"return\",\n            }\n    )\n    def retrieve_context(self, query: str) -> list:\n        \"\"\"\n        Retrieve relevant text from vector store.\n        \"\"\"\n        return self.retriever.retrieve(query)\n\n\n    @instrument(\n        span_type = SpanAttributes.SpanType.GENERATION)\n    def generate_completion(self, query: str, context_str: list) -> str:\n        \"\"\"\n        Generate answer from context.\n        \"\"\"\n        prompt = f\"\"\"\n          You are an expert airline support assistant well equipped with retrieving information from context provided to answer questions.\n          Use only the provided context to answer questions accurately and concisely.Do not fabricate or infer \n          information beyond what is given. \n          If the answer is not in the context, respond clearly that the information is unavailable.\n          Context: {context_str}\n          Question:\n          {query}\n          Answer:\n        \"\"\"\n        response = \"\"\n        stream = complete(\"mistral-7b\", prompt, stream = True)\n        for update in stream:    \n          response += update\n          print(update, end = '')\n        return response\n\n    @instrument(\n        span_type=SpanAttributes.SpanType.RECORD_ROOT, \n        attributes={\n            SpanAttributes.RECORD_ROOT.INPUT: \"query\",\n            SpanAttributes.RECORD_ROOT.OUTPUT: \"return\",\n        })\n    def query(self, query: str) -> str:\n        context_str = self.retrieve_context(query)\n        return self.generate_completion(query, context_str)\n\n\nrag = RAG()"
  },
  {
   "cell_type": "markdown",
   "id": "3307e02e-0a1f-4800-bb28-74e5910c6e31",
   "metadata": {
    "collapsed": false,
    "name": "register_the_rag_app"
   },
   "source": "## Register the App using Trulens Snowflake Connector\n\nSet metadata including application name and version, along with the snowpark session to store the experiments."
  },
  {
   "cell_type": "code",
   "execution_count": null,
   "id": "5226476e-e829-4967-ad26-0cc303a59dcb",
   "metadata": {
    "codeCollapsed": false,
    "collapsed": false,
    "language": "python",
    "name": "rag_register",
    "resultHeight": 0
   },
   "outputs": [],
   "source": "from trulens.apps.app import TruApp\nfrom trulens.connectors.snowflake import SnowflakeConnector\n\ntru_snowflake_connector = SnowflakeConnector(snowpark_session=session)\n\napp_name = \"AIRLINE_RAG\"\napp_version = \"V0\"\n\ntru_rag_air = TruApp(\n        rag,\n        app_name=app_name,\n        app_version=app_version,\n        connector=tru_snowflake_connector\n    )"
  },
  {
   "cell_type": "markdown",
   "id": "3d71877d-9f17-433d-a652-3d64e3729f3f",
   "metadata": {
    "name": "config_setup",
    "collapsed": false
   },
   "source": "## Set up the configuration for running experiments and add the run to TruLens."
  },
  {
   "cell_type": "code",
   "execution_count": null,
   "id": "deeb23d3-766d-42fb-b44a-d92f8c998be5",
   "metadata": {
    "language": "python",
    "name": "setup_run_config"
   },
   "outputs": [],
   "source": "from trulens.core.run import Run\nfrom trulens.core.run import RunConfig\n\nrun_name = \"airline_experiment_run_1\"\n\nrun_config = RunConfig(\n    run_name=run_name,\n    dataset_name=\"AIRLINE_QUERIES_ANSWERS\",\n    description=\"Questions about the Airline Passenger experience, ticketing and refund policies.\",\n    label=\"airline_rag_eval\",\n    llm_judge_name= \"mistral-large2\",\n    source_type=\"TABLE\",\n    dataset_spec={\n        \"input\": \"QUERY\",\n        \"ground_truth_output\":\"GROUND_TRUTH_RESPONSE\",\n    },\n)\n\nrun: Run = tru_rag_air.add_run(run_config=run_config)"
  },
  {
   "cell_type": "markdown",
   "id": "57f4133b-ef2c-4966-b437-f2de5d19228a",
   "metadata": {
    "collapsed": false,
    "name": "run_expt"
   },
   "source": [
    "## Start the run\n",
    "\n",
    "Start the experiment run with the prepared test set. Doing so will invoke the application in batch using the inputs in the dataset you provided in the run."
   ]
  },
  {
   "cell_type": "code",
   "execution_count": null,
   "id": "034ca2ee-c284-47fa-8fb4-193e8ba258bc",
   "metadata": {
    "language": "python",
    "name": "start_run"
   },
   "outputs": [],
   "source": [
    "run.start()"
   ]
  },
  {
   "cell_type": "markdown",
   "id": "fb578a45-77c9-41c6-a315-1b5e0dc31849",
   "metadata": {
    "name": "verify_status",
    "collapsed": false
   },
   "source": "### BEFORE RUNNING THE NEXT CELL - Navigate to the Evaluation in AI/ML section within Snowsight (AIRLINE_RAG). \n### Refresh and verify that the run is complete (Check the Status and wait till the progress spinner in the Status column stops indicating completion) before running the next step to compute metrics."
  },
  {
   "cell_type": "markdown",
   "id": "75aaf6d5-9447-4af1-b0ad-577343aa55d4",
   "metadata": {
    "collapsed": false,
    "name": "metrics_computation"
   },
   "source": "## Compute metrics"
  },
  {
   "cell_type": "code",
   "execution_count": null,
   "id": "117230cb-4d72-49b7-87fa-4c16551bb700",
   "metadata": {
    "language": "python",
    "name": "run_compute_metrics"
   },
   "outputs": [],
   "source": "run.compute_metrics(metrics=[\n    \"coherence\",\n    \"answer_relevance\",\n    \"groundedness\",\n    \"context_relevance\",\n    \"correctness\",\n])"
  },
  {
   "cell_type": "markdown",
   "id": "b1db8b38-2e1d-4054-9fc5-833da59f7aac",
   "metadata": {
    "collapsed": false,
    "name": "navigate_to_aiml_evaluation"
   },
   "source": "## Now access the Evaluation in AI/ML section within Snowsight to examine the performance metrics for your current experiment.\n### The Experiment will take few minutes to run.\n### Click on the experiment (airline_experiment_run_1) and access metrics.\n### Check the Status and wait till the progress spinner in the Status column stops indicating completion. \n### If the metrics are not available, check again in a while."
  },
  {
   "cell_type": "markdown",
   "id": "1d9f0048-e765-4fc8-96d5-9fb15055565a",
   "metadata": {
    "name": "further_experimentation",
    "collapsed": false
   },
   "source": "### Post Evaluation you could choose to delete the run, update prompts, make other changes like experimenting with other models, updating chunk sizes etc"
  },
  {
   "cell_type": "markdown",
   "id": "9ab13783-02fc-4d71-82ad-25460b3882a5",
   "metadata": {
    "name": "delete_run",
    "collapsed": false
   },
   "source": "# Delete current run"
  },
  {
   "cell_type": "code",
   "id": "9cf4bf9a-73fe-4791-91c2-253dc55b9596",
   "metadata": {
    "language": "python",
    "name": "cell7"
   },
   "outputs": [],
   "source": "# run.delete()",
   "execution_count": null
  },
  {
   "cell_type": "markdown",
   "id": "1c09d275-5b94-4b08-a08c-6ae7414b7768",
   "metadata": {
    "name": "list_instances",
    "collapsed": false
   },
   "source": "# List all the instances in the app"
  },
  {
   "cell_type": "code",
   "id": "9052412c-d551-428b-819d-47a146407e2f",
   "metadata": {
    "language": "python",
    "name": "cell3"
   },
   "outputs": [],
   "source": "tru_rag_air.list_runs()",
   "execution_count": null
  },
  {
   "cell_type": "markdown",
   "id": "34634c97-345b-48c0-a344-2bfd0913446c",
   "metadata": {
    "name": "delete_instances",
    "collapsed": false
   },
   "source": "# Delete all Instances in the app"
  },
  {
   "cell_type": "code",
   "id": "637903d2-4c92-4415-95da-d16bb91873ad",
   "metadata": {
    "language": "python",
    "name": "cell5"
   },
   "outputs": [],
   "source": "#tru_rag_air.delete()",
   "execution_count": null
  }
 ]
}