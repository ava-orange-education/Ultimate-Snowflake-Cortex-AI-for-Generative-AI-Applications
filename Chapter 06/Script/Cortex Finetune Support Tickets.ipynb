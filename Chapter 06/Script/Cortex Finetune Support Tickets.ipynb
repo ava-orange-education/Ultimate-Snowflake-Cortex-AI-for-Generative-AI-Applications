{
 "metadata": {
  "kernelspec": {
   "display_name": "Streamlit Notebook",
   "name": "streamlit"
  },
  "lastEditStatus": {
   "notebookId": "juqzj2fxqwxyxidc7lqs",
   "authorId": "54728868421",
   "authorName": "GENAIULTIMATE",
   "authorEmail": "krishnan11@hotmail.com",
   "sessionId": "fa4bff1d-a05c-49ca-94cd-b023a8a52f1e",
   "lastEditTime": 1745496342360
  }
 },
 "nbformat_minor": 5,
 "nbformat": 4,
 "cells": [
  {
   "cell_type": "code",
   "id": "3775908f-ca36-4846-8f38-5adca39217f2",
   "metadata": {
    "language": "python",
    "name": "Set_Session"
   },
   "source": "from snowflake.snowpark.context import get_active_session\nimport snowflake.snowpark.functions as F\nsession = get_active_session()\ndf = session.table('ZENTIME_CUSTOMER_SUPPORT_TICKETS')\ndf",
   "execution_count": null,
   "outputs": []
  },
  {
   "cell_type": "code",
   "id": "c695373e-ac74-4b62-a1f1-08206cbd5c81",
   "metadata": {
    "language": "python",
    "name": "Define_Prompt",
    "codeCollapsed": false
   },
   "source": "prompt = \"\"\"You are an agent that determines the category of an issue based on the ISSUE_DESCRIPTION \nfor smartwatches.\n\nThese are the ONLY possible categories:\n- Technical Issues\n- Billing Issues\n- Delivery Related / Missing Items\n- Battery Problem\n- Product Issues\n\nGiven an ISSUE_DESCRIPTION, return only one category from the list above. \nHere is a description for each category that you could use to categorize.\n\nBilling Issues: Subscription payment failures, refund requests, discount code problems, \nwarranty coverage questions, and unexpected charges\n\nTechnical Issues: App connectivity failures, software update errors, synchronization problems, \nBluetooth pairing difficulties, and account access problems\n\nDelivery Related / Missing Items: Shipping delays, lost packages, incomplete orders, incorrect delivery addresses,missing accessories, \nincorrect items such as wrong colour watch or specifications than what was requested\n\nBattery Problem: Short battery life, failure to hold charge, overheating while charging, unexpected shutdowns,\nfluctuating battery performance, and charging cable malfunctions\n\nProduct Issues: Physical damage, screen malfunctions, unresponsive buttons, water damage claims.\n\nStrictly do not return anything else.\"\"\"\n",
   "execution_count": null,
   "outputs": []
  },
  {
   "cell_type": "markdown",
   "id": "fcb960ec-8462-40be-9cb4-83f2f5493f0a",
   "metadata": {
    "name": "Use_mistral_large2",
    "collapsed": false
   },
   "source": "## Use mistral-large2"
  },
  {
   "cell_type": "code",
   "id": "71912922-abca-40a4-993d-a619d646807f",
   "metadata": {
    "language": "python",
    "name": "Check_mistral_large2_Response"
   },
   "outputs": [],
   "source": "mistral_large2_response_sql = f\"\"\" select support_ticket_id, ISSUE_DESCRIPTION,\ntrim(snowflake.cortex.complete('mistral-large2',concat('{prompt}',ISSUE_DESCRIPTION)),'\\n') \nas mistral_large2_response\nfrom zentime_customer_support_tickets\"\"\"\ndf_mistral_large2_response = session.sql(mistral_large2_response_sql)\ndf_mistral_large2_response",
   "execution_count": null
  },
  {
   "cell_type": "markdown",
   "id": "2dabc9ba-2785-4750-bbea-baf91244647d",
   "metadata": {
    "name": "mistral_7b",
    "collapsed": false
   },
   "source": "## Use mistral-7b"
  },
  {
   "cell_type": "code",
   "id": "f987cf4d-89f4-47a5-a265-b6fcb3025eab",
   "metadata": {
    "language": "python",
    "name": "mistral_7b_Response"
   },
   "outputs": [],
   "source": "mistral_7b_response_sql = f\"\"\" select support_ticket_id, ISSUE_DESCRIPTION,\ntrim(snowflake.cortex.complete('mistral-7b',concat('{prompt}',ISSUE_DESCRIPTION)),'\\n') as mistral_7b_response\nfrom zentime_customer_support_tickets\"\"\"\ndf_mistral_7b_response = session.sql(mistral_7b_response_sql)\ndf_mistral_7b_response",
   "execution_count": null
  },
  {
   "cell_type": "markdown",
   "id": "237a4365-572f-47da-914f-126f5ab6b912",
   "metadata": {
    "name": "Compare_LLMs",
    "collapsed": false
   },
   "source": "## Compare LLMs - mistral_large2 and mistral-7b"
  },
  {
   "cell_type": "code",
   "id": "195a77f2-005c-45f4-84cd-94a748557b93",
   "metadata": {
    "language": "python",
    "name": "Compare_mistral_large2_mistral_7b"
   },
   "outputs": [],
   "source": "df_llms = df_mistral_large2_response.join(df_mistral_7b_response,'SUPPORT_TICKET_ID')\ndf_llms[['SUPPORT_TICKET_ID', 'mistral_large2_response','mistral_7b_response']]",
   "execution_count": null
  },
  {
   "cell_type": "markdown",
   "id": "4abc74ed-3114-443d-bae3-927e134efc2b",
   "metadata": {
    "name": "cell15",
    "collapsed": false
   },
   "source": "# Generate dataset to fine-tune mistral-7b"
  },
  {
   "cell_type": "code",
   "id": "6ce24ea2-14d0-4ad4-a901-c49a17271136",
   "metadata": {
    "language": "python",
    "name": "Generate_Finetune_Dataset"
   },
   "outputs": [],
   "source": "df_fine_tune = df_mistral_large2_response.with_column(\n    \"prompt\",\n    F.concat(\n        F.lit(prompt), F.lit(\" \"),\n        F.col(\"ISSUE_DESCRIPTION\"), F.lit(\" \")\n    )\n).select(\"SUPPORT_TICKET_ID\", \"prompt\", \"mistral_large2_response\")\n# df_fine_tune\ndf_fine_tune.write.mode('overwrite').save_as_table('zentime_customer_support_tickets_finetune')\n",
   "execution_count": null
  },
  {
   "cell_type": "markdown",
   "id": "c2bb19c8-362f-4d20-b3de-7e827c9acaf9",
   "metadata": {
    "name": "Train_Eval_Split",
    "collapsed": false
   },
   "source": "# Fine-tune mistral-7b\n\n## Split data into training and evaluation"
  },
  {
   "cell_type": "code",
   "id": "3d82b524-1dc3-42b4-91fd-aaf571e3e732",
   "metadata": {
    "language": "python",
    "name": "cell7"
   },
   "outputs": [],
   "source": "train_df, eval_df = session.table(\"zentime_customer_support_tickets_finetune\").random_split(weights=[0.8, 0.2], \n                                                                                            seed=42)\ntrain_df.write.mode('overwrite').save_as_table('zentime_customer_support_train')\neval_df.write.mode('overwrite').save_as_table('zentime_customer_support_eval')",
   "execution_count": null
  },
  {
   "cell_type": "markdown",
   "id": "c8d10ff6-1125-4c1b-b5f1-1f21317ac124",
   "metadata": {
    "name": "cell13",
    "collapsed": false
   },
   "source": "## *Fine-tune mistral-7b model using Cortex*"
  },
  {
   "cell_type": "code",
   "id": "97c82479-ecd1-473d-ad93-d717292f751f",
   "metadata": {
    "language": "sql",
    "name": "Finetune_mistral_7b"
   },
   "outputs": [],
   "source": "select SNOWFLAKE.CORTEX.FINETUNE('CREATE', 'CORTEX_AI_DB.PUBLIC.zentime_customer_support_FINETUNED_mistral_7b_model','mistral-7b', 'SELECT prompt, mistral_large2_response as completion from CORTEX_AI_DB.PUBLIC.zentime_customer_support_train', 'SELECT prompt, mistral_large2_response as completion from CORTEX_AI_DB.PUBLIC.zentime_customer_support_eval')zentime_fine_tuned_job_id;",
   "execution_count": null
  },
  {
   "cell_type": "markdown",
   "id": "a659a17e-797a-40eb-aad4-f85ba448777d",
   "metadata": {
    "name": "cell12",
    "collapsed": false
   },
   "source": "### Copy the job id from above and feed it in the below Query to see status of the fine tuning job"
  },
  {
   "cell_type": "code",
   "id": "49cb6dd5-ce47-48e0-a8dc-dec291c03003",
   "metadata": {
    "language": "sql",
    "name": "Status_of_finetune_job"
   },
   "outputs": [],
   "source": "select snowflake.cortex.finetune('DESCRIBE', 'ft_f8c4e8d4-c65b-4b8c-9f80-75a96fbcef42');",
   "execution_count": null
  },
  {
   "cell_type": "markdown",
   "id": "7cdde109-c123-4dd9-9811-332c665a8896",
   "metadata": {
    "name": "cell11",
    "collapsed": false
   },
   "source": "# Inference using fine-tuned model"
  },
  {
   "cell_type": "code",
   "id": "3b74e1f0-2609-4395-a15c-5a3761e28f85",
   "metadata": {
    "language": "python",
    "name": "Inference"
   },
   "outputs": [],
   "source": "fine_tuned_model_name = 'zentime_customer_support_FINETUNED_mistral_7b_model'\n\nsql = f\"\"\"select support_ticket_id, issue_description,\ntrim(snowflake.cortex.complete('{fine_tuned_model_name}',concat('{prompt}',\nissue_description)),'\\n') as zt_fine_tuned_mistral_7b_model_response\nfrom zentime_customer_support_tickets\"\"\"\n\ndf_fine_tuned_mistral_7b_response = session.sql(sql)\ndf_fine_tuned_mistral_7b_response",
   "execution_count": null
  }
 ]
}